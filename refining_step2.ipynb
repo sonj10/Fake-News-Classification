{
 "cells": [
  {
   "cell_type": "code",
   "execution_count": 1,
   "metadata": {},
   "outputs": [],
   "source": [
    "import pandas as pd\n",
    "import csv\n",
    "from nltk.tokenize import word_tokenize\n",
    "from nltk.corpus import stopwords\n",
    "from nltk.stem.porter import PorterStemmer"
   ]
  },
  {
   "cell_type": "code",
   "execution_count": 2,
   "metadata": {},
   "outputs": [],
   "source": [
    "data = pd.read_csv('cleanedtrain.csv', delimiter=',',usecols=['id', 'tid1', 'tid2','title1_en','title2_en','label'])\n",
    "data1 = data"
   ]
  },
  {
   "cell_type": "code",
   "execution_count": 3,
   "metadata": {},
   "outputs": [],
   "source": [
    "def cleaning_data(str):\n",
    "    \n",
    "    tokens1 = word_tokenize(str)\n",
    "    words1 = [word.lower() for word in tokens1 if word.isalpha()]\n",
    "\n",
    "    stop_words = set(stopwords.words('english'))\n",
    "    words1 = [w for w in words1 if not w in stop_words]\n",
    "    \n",
    "    porter = PorterStemmer()\n",
    "    stemmed1 = [porter.stem(word) for word in words1]\n",
    "    \n",
    "    a = \" \"\n",
    "    a = a.join(stemmed1)\n",
    "    \n",
    "    return a"
   ]
  },
  {
   "cell_type": "code",
   "execution_count": 4,
   "metadata": {},
   "outputs": [],
   "source": [
    "for i in range(len(data1['title1_en'])):\n",
    "    data['title1_en'][i] = (cleaning_data(data['title1_en'][i]))\n",
    "    data['title2_en'][i] = (cleaning_data(data['title2_en'][i]))\n"
   ]
  },
  {
   "cell_type": "code",
   "execution_count": 5,
   "metadata": {},
   "outputs": [],
   "source": [
    "data.to_csv ('cleanedtrain2.csv', index = None, header=True)"
   ]
  },
  {
   "cell_type": "code",
   "execution_count": null,
   "metadata": {},
   "outputs": [],
   "source": []
  }
 ],
 "metadata": {
  "kernelspec": {
   "display_name": "Python 3",
   "language": "python",
   "name": "python3"
  },
  "language_info": {
   "codemirror_mode": {
    "name": "ipython",
    "version": 3
   },
   "file_extension": ".py",
   "mimetype": "text/x-python",
   "name": "python",
   "nbconvert_exporter": "python",
   "pygments_lexer": "ipython3",
   "version": "3.7.0"
  }
 },
 "nbformat": 4,
 "nbformat_minor": 2
}
